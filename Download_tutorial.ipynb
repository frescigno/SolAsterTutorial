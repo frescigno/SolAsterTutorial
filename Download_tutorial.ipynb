{
 "cells": [
  {
   "cell_type": "markdown",
   "metadata": {},
   "source": [
    "# Download images with Sunpy\n",
    "\n",
    "Sunpy is a python package to access and make use of solar data.\n",
    "\n",
    "We will use it to download SDO images"
   ]
  },
  {
   "cell_type": "code",
   "execution_count": 1,
   "metadata": {},
   "outputs": [],
   "source": [
    "from sunpy.net import Fido, attrs as a\n",
    "import astropy.units  as u"
   ]
  },
  {
   "attachments": {},
   "cell_type": "markdown",
   "metadata": {},
   "source": [
    "For each timestamp, we need to download a continuum intensity map, a Dopplergram, and a line-of-sight magnetogram, using the `search` function in `Fido`.\n",
    "\n",
    "Example use:\n",
    "```\n",
    "matching_images = Fido.search(\n",
    "    a.Time('2014-01-01T00:00:00', '2014-01-01T00:12:00'),\n",
    "    a.jsoc.Series('hmi.Ic_720s'),\n",
    "    a.jsoc.Notify('example@email.com')\n",
    ")\n",
    "\n",
    "```\n",
    "\n",
    "`a.Time` specifies the time range in which we want to search for data. \n",
    "\n",
    "`a.jsoc.Series` tells jsoc which data products we want to access. In this case, we are getting the 720 second exposure (`720s`),  continuum intensitygrams (`Ic`) obtained from the Helioseismic and Magnetic Imager (`hmi`). The table below shows the relevant parameters to pass to `Series` for the data products we will be using.\n",
    "\n",
    "|Data type | jsoc Series |\n",
    "| ---- | --- |\n",
    "| Intensitygram | `hmi.Ic_720s`| \n",
    "| Magnetogram | `hmi.m_720s`| \n",
    "| Dopplergram | `hmi.v_720s`| \n",
    "\n",
    "\n",
    "\n",
    "`a.jsoc.Notify` tells jsoc which user is accessing the data, you will get a confirmation email each time you download the data.\n",
    "\n",
    "Another useful parameter to pass to `search` includes, e.g., `a.Sample(12*u.hour)` if we wanted to only get data every 12 hours for the duration of the specified time range.\n",
    "\n",
    "Once we have identified all the matching available data products using `Fido.search`, we call\n",
    "\n",
    "```\n",
    "downloaded_files = Fido.fetch(matching_images, path='./path/{file}')\n",
    "```\n",
    "to download the relevant images, and save them in `./path/`. \n",
    "\n",
    "The `downloaded_files` object is a list of filepaths of the images."
   ]
  },
  {
   "cell_type": "code",
   "execution_count": 19,
   "metadata": {},
   "outputs": [
    {
     "name": "stdout",
     "output_type": "stream",
     "text": [
      "Export request pending. [id=JSOC_20230308_3593, status=2]\n",
      "Waiting for 0 seconds...\n",
      "2 URLs found for download. Full request totalling 30MB\n"
     ]
    },
    {
     "data": {
      "application/vnd.jupyter.widget-view+json": {
       "model_id": "972b5e28321240e385e0dd6d6deee660",
       "version_major": 2,
       "version_minor": 0
      },
      "text/plain": [
       "Files Downloaded:   0%|          | 0/2 [00:00<?, ?file/s]"
      ]
     },
     "metadata": {},
     "output_type": "display_data"
    },
    {
     "data": {
      "application/vnd.jupyter.widget-view+json": {
       "model_id": "d65abc10970a49d591e94b244adbb8ab",
       "version_major": 2,
       "version_minor": 0
      },
      "text/plain": [
       "hmi.ic_720s.20140101_000000_TAI.1.continuum.fits:   0%|          | 0.00/15.5M [00:00<?, ?B/s]"
      ]
     },
     "metadata": {},
     "output_type": "display_data"
    },
    {
     "data": {
      "application/vnd.jupyter.widget-view+json": {
       "model_id": "4d42f82a1a9c450191a854783d7a3d62",
       "version_major": 2,
       "version_minor": 0
      },
      "text/plain": [
       "hmi.ic_720s.20140101_001200_TAI.1.continuum.fits:   0%|          | 0.00/15.5M [00:00<?, ?B/s]"
      ]
     },
     "metadata": {},
     "output_type": "display_data"
    },
    {
     "name": "stdout",
     "output_type": "stream",
     "text": [
      "Export request pending. [id=JSOC_20230308_3566, status=2]\n",
      "Waiting for 0 seconds...\n",
      "2 URLs found for download. Full request totalling 28MB\n"
     ]
    },
    {
     "data": {
      "application/vnd.jupyter.widget-view+json": {
       "model_id": "300d28858e174a7a8413d3b423695937",
       "version_major": 2,
       "version_minor": 0
      },
      "text/plain": [
       "Files Downloaded:   0%|          | 0/2 [00:00<?, ?file/s]"
      ]
     },
     "metadata": {},
     "output_type": "display_data"
    },
    {
     "data": {
      "application/vnd.jupyter.widget-view+json": {
       "model_id": "3f78ff8e57b84b6cacf00ad69c00af06",
       "version_major": 2,
       "version_minor": 0
      },
      "text/plain": [
       "hmi.m_720s.20140101_000000_TAI.1.magnetogram.fits:   0%|          | 0.00/14.4M [00:00<?, ?B/s]"
      ]
     },
     "metadata": {},
     "output_type": "display_data"
    },
    {
     "data": {
      "application/vnd.jupyter.widget-view+json": {
       "model_id": "346b3637ebfe42cfbbde6e3609045e83",
       "version_major": 2,
       "version_minor": 0
      },
      "text/plain": [
       "hmi.m_720s.20140101_001200_TAI.1.magnetogram.fits:   0%|          | 0.00/14.4M [00:00<?, ?B/s]"
      ]
     },
     "metadata": {},
     "output_type": "display_data"
    },
    {
     "name": "stdout",
     "output_type": "stream",
     "text": [
      "Export request pending. [id=JSOC_20230308_3632, status=2]\n",
      "Waiting for 0 seconds...\n",
      "2 URLs found for download. Full request totalling 33MB\n"
     ]
    },
    {
     "data": {
      "application/vnd.jupyter.widget-view+json": {
       "model_id": "33782652048342d5a075fa35b72807ad",
       "version_major": 2,
       "version_minor": 0
      },
      "text/plain": [
       "Files Downloaded:   0%|          | 0/2 [00:00<?, ?file/s]"
      ]
     },
     "metadata": {},
     "output_type": "display_data"
    },
    {
     "data": {
      "application/vnd.jupyter.widget-view+json": {
       "model_id": "8d5b7740f4574f10bb7294408ccbe1e3",
       "version_major": 2,
       "version_minor": 0
      },
      "text/plain": [
       "hmi.v_720s.20140101_000000_TAI.1.Dopplergram.fits:   0%|          | 0.00/17.2M [00:00<?, ?B/s]"
      ]
     },
     "metadata": {},
     "output_type": "display_data"
    },
    {
     "data": {
      "application/vnd.jupyter.widget-view+json": {
       "model_id": "ca3d01a3727a4cc69741ff88b0722bda",
       "version_major": 2,
       "version_minor": 0
      },
      "text/plain": [
       "hmi.v_720s.20140101_001200_TAI.1.Dopplergram.fits:   0%|          | 0.00/17.2M [00:00<?, ?B/s]"
      ]
     },
     "metadata": {},
     "output_type": "display_data"
    }
   ],
   "source": [
    "continuum_search = Fido.search(a.Time('2014-01-01T00:00:00', '2014-01-01T00:12:00'), a.jsoc.Series('hmi.Ic_720s'), a.jsoc.Notify('bsl204@exeter.ac.uk'))\n",
    "continuum_download = Fido.fetch(continuum_search, path='./downloaded_images/{file}')\n",
    "\n",
    "magnetogram_search = Fido.search(a.Time('2014-01-01T00:00:00', '2014-01-01T00:12:00'), a.jsoc.Series('hmi.m_720s'), a.jsoc.Notify('bsl204@exeter.ac.uk'))\n",
    "magnetogram_download = Fido.fetch(magnetogram_search, path='./downloaded_images/{file}')\n",
    "\n",
    "dopplergram_search = Fido.search(a.Time('2014-01-01T00:00:00', '2014-01-01T00:12:00'), a.jsoc.Series('hmi.V_720s'), a.jsoc.Notify('bsl204@exeter.ac.uk'))\n",
    "dopplergram_download = Fido.fetch(dopplergram_search, path='./downloaded_images/{file}')"
   ]
  },
  {
   "cell_type": "code",
   "execution_count": 30,
   "metadata": {},
   "outputs": [
    {
     "name": "stdout",
     "output_type": "stream",
     "text": [
      "Using backup data\n"
     ]
    }
   ],
   "source": [
    "# In case of emergency break glass\n",
    "# If the data is not downloading (or taking too long) use the pre-downloaded data in the backup folder\n",
    "\n",
    "import os\n",
    "\n",
    "# if len(os.listdir('./downloaded_images/')) == 0:\n",
    "if True:\n",
    "    print('Using backup data')\n",
    "    all_files = os.listdir('./downloaded_images_backup/')\n",
    "    magnetogram_download = ['./downloaded_images_backup/' + i for i in all_files if 'magnetogram' in i]\n",
    "    continuum_download = ['./downloaded_images_backup/'+i for i in all_files if 'continuum' in i]\n",
    "    dopplergram_download = ['./downloaded_images_backup/' + i for i in all_files if 'Dopplergram' in i]\n",
    "    "
   ]
  },
  {
   "cell_type": "code",
   "execution_count": 32,
   "metadata": {},
   "outputs": [],
   "source": [
    "all_downloads = magnetogram_download + continuum_download + dopplergram_download"
   ]
  },
  {
   "cell_type": "code",
   "execution_count": 33,
   "metadata": {},
   "outputs": [
    {
     "data": {
      "text/plain": [
       "['./downloaded_images_backup/hmi.m_720s.20140101_000000_TAI.1.magnetogram.fits',\n",
       " './downloaded_images_backup/hmi.m_720s.20140101_001200_TAI.1.magnetogram.fits',\n",
       " './downloaded_images_backup/hmi.ic_720s.20140101_001200_TAI.1.continuum.fits',\n",
       " './downloaded_images_backup/hmi.ic_720s.20140101_000000_TAI.1.continuum.fits',\n",
       " './downloaded_images_backup/hmi.v_720s.20140101_000000_TAI.1.Dopplergram.fits',\n",
       " './downloaded_images_backup/hmi.v_720s.20140101_001200_TAI.1.Dopplergram.fits']"
      ]
     },
     "execution_count": 33,
     "metadata": {},
     "output_type": "execute_result"
    }
   ],
   "source": [
    "all_downloads"
   ]
  },
  {
   "cell_type": "code",
   "execution_count": null,
   "metadata": {},
   "outputs": [],
   "source": []
  }
 ],
 "metadata": {
  "kernelspec": {
   "display_name": "Python 3 (ipykernel)",
   "language": "python",
   "name": "python3"
  },
  "language_info": {
   "codemirror_mode": {
    "name": "ipython",
    "version": 3
   },
   "file_extension": ".py",
   "mimetype": "text/x-python",
   "name": "python",
   "nbconvert_exporter": "python",
   "pygments_lexer": "ipython3",
   "version": "3.10.9"
  },
  "vscode": {
   "interpreter": {
    "hash": "5ff616b1659fc3860cc024fa76dfe1a60f886fc6e629cbf7b5197c3744c118f3"
   }
  }
 },
 "nbformat": 4,
 "nbformat_minor": 2
}
