{
 "cells": [
  {
   "cell_type": "code",
   "execution_count": 17,
   "metadata": {},
   "outputs": [],
   "source": [
    "import datetime\n",
    "import pandas as pd\n",
    "import numpy as np\n",
    "import os\n",
    "from pathlib import Path\n",
    "\n",
    "import sunpy.map\n",
    "from sunpy.net import Fido\n",
    "from sunpy.net import attrs as a\n",
    "from sunpy.coordinates import frames\n",
    "\n",
    "import SolAster\n",
    "import SolAster.tools.rvs as rvs\n",
    "import SolAster.tools.calculation_funcs as sfuncs\n",
    "import SolAster.tools.lbc_funcs as lbfuncs\n",
    "import SolAster.tools.coord_funcs as ctfuncs\n",
    "import SolAster.tools.utilities as utils\n",
    "from SolAster.tools.settings import *\n",
    "from SolAster.tools.plotting_funcs import hmi_plot"
   ]
  },
  {
   "cell_type": "code",
   "execution_count": 5,
   "metadata": {},
   "outputs": [],
   "source": [
    "# name of csv file to store calculations\n",
    "csv_name = 'timeseries'\n",
    "\n",
    "# date range\n",
    "start_date = datetime.datetime(2014, 8, 21, 0, 00, 0)\n",
    "end_date = datetime.datetime(2014, 8, 22, 0, 00, 0)\n",
    "\n",
    "# query cadence in seconds (to download a single image per day, pick cadence = to a day)\n",
    "cadence = 24*3600\n",
    "\n",
    "# name of instrument to use for calculation of RV model\n",
    "# choose either 'NEID' or 'HARPS-N'\n",
    "inst = 'HARPS-N'\n",
    "\n",
    "# True if outputting diagnostic plots\n",
    "diagnostic_plots = True\n",
    "# path to save diagnostic figure or none\n",
    "save_fig = None"
   ]
  },
  {
   "cell_type": "code",
   "execution_count": 25,
   "metadata": {},
   "outputs": [
    {
     "name": "stdout",
     "output_type": "stream",
     "text": [
      "/Users/frescigno/Github_local/SolAsterTutorial\n",
      "/Users/frescigno/Github_local/SolAsterTutorial/products/timeseries.csv\n",
      "/Users/frescigno/Github_local/SolAsterTutorial/products/timeseries_bad_dates.csv\n",
      "Beginning calculation of values for csv file: timeseries\n"
     ]
    },
    {
     "ename": "FileNotFoundError",
     "evalue": "[Errno 2] No such file or directory: '/Users/frescigno/Github_local/SolAsterTutorial/products/timeseries.csv'",
     "output_type": "error",
     "traceback": [
      "\u001b[0;31m---------------------------------------------------------------------------\u001b[0m",
      "\u001b[0;31mFileNotFoundError\u001b[0m                         Traceback (most recent call last)",
      "\u001b[0;32m/var/folders/br/4jv1k0z5449gmjtpyksfxjm807jznb/T/ipykernel_96005/2787266768.py\u001b[0m in \u001b[0;36m<module>\u001b[0;34m\u001b[0m\n\u001b[1;32m     17\u001b[0m \u001b[0;34m\u001b[0m\u001b[0m\n\u001b[1;32m     18\u001b[0m \u001b[0;31m# Append a list as new line to an old csv file\u001b[0m\u001b[0;34m\u001b[0m\u001b[0;34m\u001b[0m\u001b[0;34m\u001b[0m\u001b[0m\n\u001b[0;32m---> 19\u001b[0;31m \u001b[0mutils\u001b[0m\u001b[0;34m.\u001b[0m\u001b[0mappend_list_as_row\u001b[0m\u001b[0;34m(\u001b[0m\u001b[0mcsv_file\u001b[0m\u001b[0;34m,\u001b[0m \u001b[0mrow_contents\u001b[0m\u001b[0;34m)\u001b[0m\u001b[0;34m\u001b[0m\u001b[0;34m\u001b[0m\u001b[0m\n\u001b[0m\u001b[1;32m     20\u001b[0m \u001b[0;31m#utils.check_dir(current_position+\"products\")\u001b[0m\u001b[0;34m\u001b[0m\u001b[0;34m\u001b[0m\u001b[0;34m\u001b[0m\u001b[0m\n\u001b[1;32m     21\u001b[0m \u001b[0;34m\u001b[0m\u001b[0m\n",
      "\u001b[0;32m~/opt/anaconda3/envs/Main/lib/python3.7/site-packages/SolAster/tools/utilities.py\u001b[0m in \u001b[0;36mappend_list_as_row\u001b[0;34m(file_name, list_of_elem)\u001b[0m\n\u001b[1;32m     56\u001b[0m     \"\"\"\n\u001b[1;32m     57\u001b[0m     \u001b[0;31m# Open file in append mode\u001b[0m\u001b[0;34m\u001b[0m\u001b[0;34m\u001b[0m\u001b[0;34m\u001b[0m\u001b[0m\n\u001b[0;32m---> 58\u001b[0;31m     \u001b[0;32mwith\u001b[0m \u001b[0mopen\u001b[0m\u001b[0;34m(\u001b[0m\u001b[0mfile_name\u001b[0m\u001b[0;34m,\u001b[0m \u001b[0;34m'a+'\u001b[0m\u001b[0;34m,\u001b[0m \u001b[0mnewline\u001b[0m\u001b[0;34m=\u001b[0m\u001b[0;34m''\u001b[0m\u001b[0;34m)\u001b[0m \u001b[0;32mas\u001b[0m \u001b[0mwrite_obj\u001b[0m\u001b[0;34m:\u001b[0m\u001b[0;34m\u001b[0m\u001b[0;34m\u001b[0m\u001b[0m\n\u001b[0m\u001b[1;32m     59\u001b[0m         \u001b[0;31m# Create a writer object from csv module\u001b[0m\u001b[0;34m\u001b[0m\u001b[0;34m\u001b[0m\u001b[0;34m\u001b[0m\u001b[0m\n\u001b[1;32m     60\u001b[0m         \u001b[0mcsv_writer\u001b[0m \u001b[0;34m=\u001b[0m \u001b[0mcsv\u001b[0m\u001b[0;34m.\u001b[0m\u001b[0mwriter\u001b[0m\u001b[0;34m(\u001b[0m\u001b[0mwrite_obj\u001b[0m\u001b[0;34m)\u001b[0m\u001b[0;34m\u001b[0m\u001b[0;34m\u001b[0m\u001b[0m\n",
      "\u001b[0;31mFileNotFoundError\u001b[0m: [Errno 2] No such file or directory: '/Users/frescigno/Github_local/SolAsterTutorial/products/timeseries.csv'"
     ]
    }
   ],
   "source": [
    "# create file names\n",
    "current_position = Path().resolve()\n",
    "print(current_position)\n",
    "csv_file = os.path.join(current_position,\"products/\"+csv_name+'.csv')\n",
    "print(csv_file)\n",
    "bad_dates_csv = os.path.join(current_position,\"products/\"+csv_name+'_bad_dates.csv')\n",
    "print(bad_dates_csv)\n",
    "\n",
    "# print out csv title\n",
    "print(\"Beginning calculation of values for csv file: \" + csv_name)\n",
    "\n",
    "# List of header strings\n",
    "row_contents = ['date_obs', 'date_jd', 'v_quiet', 'v_disc', 'v_phot', 'v_conv', 'f_bright', 'f_spot', 'f', 'Bobs',\n",
    "                'vphot_bright', 'vphot_spot', 'f_small', 'f_large', 'f_network', 'f_plage', 'f_nonconv',\n",
    "                'quiet_flux', 'ar_flux', 'conv_flux', 'pol_flux', 'pol_conv_flux', 'vconv_quiet', 'vconv_large',\n",
    "                'vconv_small']\n",
    "\n",
    "# Append a list as new line to an old csv file\n",
    "utils.append_list_as_row(csv_file, row_contents)\n",
    "#utils.check_dir(current_position+\"products\")\n",
    "\n",
    "# get hmi data products\n",
    "time_range = datetime.timedelta(seconds=22)\n",
    "physobs_list = [a.Physobs.los_velocity, a.Physobs.los_magnetic_field, a.Physobs.intensity]\n",
    "\n",
    "# get dates list\n",
    "xy = (end_date - start_date).seconds + (end_date - start_date).days * 24 * 3600"
   ]
  },
  {
   "cell_type": "code",
   "execution_count": null,
   "metadata": {},
   "outputs": [],
   "source": []
  }
 ],
 "metadata": {
  "kernelspec": {
   "display_name": "Main",
   "language": "python",
   "name": "python3"
  },
  "language_info": {
   "codemirror_mode": {
    "name": "ipython",
    "version": 3
   },
   "file_extension": ".py",
   "mimetype": "text/x-python",
   "name": "python",
   "nbconvert_exporter": "python",
   "pygments_lexer": "ipython3",
   "version": "3.7.12"
  },
  "orig_nbformat": 4,
  "vscode": {
   "interpreter": {
    "hash": "5ff616b1659fc3860cc024fa76dfe1a60f886fc6e629cbf7b5197c3744c118f3"
   }
  }
 },
 "nbformat": 4,
 "nbformat_minor": 2
}
