{
 "cells": [
  {
   "cell_type": "code",
   "execution_count": 1,
   "metadata": {},
   "outputs": [],
   "source": [
    "import datetime\n",
    "import pandas as pd\n",
    "import numpy as np\n",
    "\n",
    "import sunpy.map\n",
    "from sunpy.net import Fido\n",
    "from sunpy.net import attrs as a\n",
    "from sunpy.coordinates import frames\n",
    "\n",
    "import SolAster\n",
    "import SolAster.tools.rvs as rvs\n",
    "import SolAster.tools.calculation_funcs as sfuncs\n",
    "import SolAster.tools.lbc_funcs as lbfuncs\n",
    "import SolAster.tools.coord_funcs as ctfuncs\n",
    "import SolAster.tools.utilities as utils\n",
    "from SolAster.tools.settings import *\n",
    "from SolAster.tools.plotting_funcs import hmi_plot"
   ]
  },
  {
   "cell_type": "code",
   "execution_count": 2,
   "metadata": {},
   "outputs": [],
   "source": [
    "# name of csv file to store calculations\n",
    "csv_name = 'timeseries.csv'\n",
    "\n",
    "# date range\n",
    "start_date = datetime.datetime(2014, 8, 21, 0, 00, 0)\n",
    "end_date = datetime.datetime(2014, 8, 22, 0, 00, 0)\n",
    "\n",
    "# query cadence in seconds (to download a single image per day, pick cadence = to a day)\n",
    "cadence = 24*3600\n",
    "\n",
    "# name of instrument to use for calculation of RV model\n",
    "# choose either 'NEID' or 'HARPS-N'\n",
    "inst = 'HARPS-N'\n",
    "\n",
    "# True if outputting diagnostic plots\n",
    "diagnostic_plots = True\n",
    "# path to save diagnostic figure or none\n",
    "save_fig = None"
   ]
  },
  {
   "cell_type": "code",
   "execution_count": null,
   "metadata": {},
   "outputs": [],
   "source": []
  }
 ],
 "metadata": {
  "kernelspec": {
   "display_name": "Main",
   "language": "python",
   "name": "python3"
  },
  "language_info": {
   "codemirror_mode": {
    "name": "ipython",
    "version": 3
   },
   "file_extension": ".py",
   "mimetype": "text/x-python",
   "name": "python",
   "nbconvert_exporter": "python",
   "pygments_lexer": "ipython3",
   "version": "3.7.12"
  },
  "orig_nbformat": 4,
  "vscode": {
   "interpreter": {
    "hash": "5ff616b1659fc3860cc024fa76dfe1a60f886fc6e629cbf7b5197c3744c118f3"
   }
  }
 },
 "nbformat": 4,
 "nbformat_minor": 2
}
