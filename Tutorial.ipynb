{
 "cells": [
  {
   "attachments": {},
   "cell_type": "markdown",
   "metadata": {},
   "source": [
    "# Download images with Sunpy\n",
    "\n",
    "Sunpy is a python package to access and make use of solar data.\n",
    "\n",
    "We will use it to download SDO images"
   ]
  },
  {
   "cell_type": "code",
   "execution_count": 5,
   "metadata": {},
   "outputs": [],
   "source": [
    "from sunpy.net import Fido, attrs as a\n",
    "import astropy.units    as u"
   ]
  },
  {
   "attachments": {},
   "cell_type": "markdown",
   "metadata": {},
   "source": [
    "For each timestamp, we need to download a continuum intensity map, a Dopplergram, and a line-of-sight magnetogram"
   ]
  },
  {
   "cell_type": "code",
   "execution_count": 7,
   "metadata": {},
   "outputs": [
    {
     "name": "stdout",
     "output_type": "stream",
     "text": [
      "Export request pending. [id=JSOC_20230308_3566, status=2]\n",
      "Waiting for 0 seconds...\n",
      "Export request pending. [id=JSOC_20230308_3566, status=1]\n",
      "Waiting for 5 seconds...\n",
      "Export request pending. [id=JSOC_20230308_3566, status=1]\n",
      "Waiting for 5 seconds...\n",
      "Export request pending. [id=JSOC_20230308_3566, status=1]\n",
      "Waiting for 5 seconds...\n",
      "Export request pending. [id=JSOC_20230308_3566, status=1]\n",
      "Waiting for 5 seconds...\n",
      "Export request pending. [id=JSOC_20230308_3566, status=1]\n",
      "Waiting for 5 seconds...\n",
      "2 URLs found for download. Full request totalling 28MB\n"
     ]
    },
    {
     "data": {
      "application/vnd.jupyter.widget-view+json": {
       "model_id": "f4eaca40d7cc40f5b17966d9b1728e6a",
       "version_major": 2,
       "version_minor": 0
      },
      "text/plain": [
       "Files Downloaded:   0%|          | 0/2 [00:00<?, ?file/s]"
      ]
     },
     "metadata": {},
     "output_type": "display_data"
    },
    {
     "data": {
      "application/vnd.jupyter.widget-view+json": {
       "model_id": "26d24cfc085d4c25b237d7694b3a5722",
       "version_major": 2,
       "version_minor": 0
      },
      "text/plain": [
       "hmi.m_720s.20140101_000000_TAI.1.magnetogram.fits:   0%|          | 0.00/14.4M [00:00<?, ?B/s]"
      ]
     },
     "metadata": {},
     "output_type": "display_data"
    },
    {
     "data": {
      "application/vnd.jupyter.widget-view+json": {
       "model_id": "1eb02a58a7c642a4a52266be86513a04",
       "version_major": 2,
       "version_minor": 0
      },
      "text/plain": [
       "hmi.m_720s.20140101_001200_TAI.1.magnetogram.fits:   0%|          | 0.00/14.4M [00:00<?, ?B/s]"
      ]
     },
     "metadata": {},
     "output_type": "display_data"
    }
   ],
   "source": [
    "continuum_search = Fido.search(a.Time('2014-01-01T00:00:00', '2014-01-01T00:12:00'), a.jsoc.Series('hmi.m_720s'), a.jsoc.Notify('bsl204@exeter.ac.uk'))\n",
    "continuum_download = Fido.fetch(continuum_search, path='./{file}')"
   ]
  },
  {
   "cell_type": "code",
   "execution_count": null,
   "metadata": {},
   "outputs": [],
   "source": []
  }
 ],
 "metadata": {
  "kernelspec": {
   "display_name": "Python 3 (ipykernel)",
   "language": "python",
   "name": "python3"
  },
  "language_info": {
   "codemirror_mode": {
    "name": "ipython",
    "version": 3
   },
   "file_extension": ".py",
   "mimetype": "text/x-python",
   "name": "python",
   "nbconvert_exporter": "python",
   "pygments_lexer": "ipython3",
   "version": "3.8.8"
  },
  "vscode": {
   "interpreter": {
    "hash": "5ff616b1659fc3860cc024fa76dfe1a60f886fc6e629cbf7b5197c3744c118f3"
   }
  }
 },
 "nbformat": 4,
 "nbformat_minor": 2
}
