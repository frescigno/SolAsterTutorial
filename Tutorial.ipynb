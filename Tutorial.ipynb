{
 "cells": [
  {
   "attachments": {},
   "cell_type": "markdown",
   "metadata": {},
   "source": [
    "# Download images with Sunpy\n",
    "\n",
    "Sunpy is a python package to access and make use of solar data.\n",
    "\n",
    "We will use it to download SDO images"
   ]
  },
  {
   "cell_type": "code",
   "execution_count": 5,
   "metadata": {},
   "outputs": [],
   "source": [
    "from sunpy.net import Fido, attrs as a\n",
    "import astropy.units    as u"
   ]
  },
  {
   "attachments": {},
   "cell_type": "markdown",
   "metadata": {},
   "source": [
    "For each timestamp, we need to download a continuum intensity map, a Dopplergram, and a line-of-sight magnetogram, using the `search` function in `Fido`.\n",
    "\n",
    "Example use:\n",
    "```\n",
    "matching_images = Fido.search(\n",
    "    a.Time('2014-01-01T00:00:00', '2014-01-01T00:12:00'),\n",
    "    a.jsoc.Series('hmi.Ic_720s'),\n",
    "    a.jsoc.Notify('example@email.com')\n",
    ")\n",
    "\n",
    "```\n",
    "\n",
    "`a.Time` specifies the time range in which we want to search for data. \n",
    "\n",
    "`a.jsoc.Series` tells jsoc which data products we want to access. In this case, we are getting the 720 second exposure (`720s`),  continuum intensitygrams (`Ic`) obtained from the Helioseismic and Magnetic Imager (`hmi`). To access the Dopplergrams we would use `'hmi.v_720s'` and for the \n",
    "\n",
    "`a.jsoc.Notify` tells jsoc which user is accessing the data, you will get a confirmation email each time you download the data.\n",
    "\n",
    "Another useful parameter to pass to `seach` includes, e.g., `a.Sample(12*u.hour)` if we wanted to only get data every 12 hours for the duration of the specified time range.\n",
    "\n",
    "Once we have identified all the matching available data products using `Fido.search`, we call\n",
    "\n",
    "```\n",
    "downloaded_files = Fido.fetch(matching_images, path='./path/{file}')\n",
    "```\n",
    "to download the relevant images, and save them in `./path/`. \n",
    "\n",
    "The `downloaded_files` object is a list of filepaths of the images."
   ]
  },
  {
   "cell_type": "code",
   "execution_count": 18,
   "metadata": {},
   "outputs": [
    {
     "ename": "KeyboardInterrupt",
     "evalue": "",
     "output_type": "error",
     "traceback": [
      "\u001b[0;31m---------------------------------------------------------------------------\u001b[0m",
      "\u001b[0;31mKeyboardInterrupt\u001b[0m                         Traceback (most recent call last)",
      "Cell \u001b[0;32mIn[18], line 2\u001b[0m\n\u001b[1;32m      1\u001b[0m continuum_search \u001b[39m=\u001b[39m Fido\u001b[39m.\u001b[39msearch(a\u001b[39m.\u001b[39mTime(\u001b[39m'\u001b[39m\u001b[39m2014-02-01T00:00:00\u001b[39m\u001b[39m'\u001b[39m, \u001b[39m'\u001b[39m\u001b[39m2014-02-01T00:12:00\u001b[39m\u001b[39m'\u001b[39m), a\u001b[39m.\u001b[39mjsoc\u001b[39m.\u001b[39mSeries(\u001b[39m'\u001b[39m\u001b[39mhmi.Ic_720s\u001b[39m\u001b[39m'\u001b[39m), a\u001b[39m.\u001b[39mjsoc\u001b[39m.\u001b[39mNotify(\u001b[39m'\u001b[39m\u001b[39mbsl204@exeter.ac.uk\u001b[39m\u001b[39m'\u001b[39m))\n\u001b[0;32m----> 2\u001b[0m continuum_download \u001b[39m=\u001b[39m Fido\u001b[39m.\u001b[39;49mfetch(continuum_search, path\u001b[39m=\u001b[39;49m\u001b[39m'\u001b[39;49m\u001b[39m./\u001b[39;49m\u001b[39m{file}\u001b[39;49;00m\u001b[39m'\u001b[39;49m)\n\u001b[1;32m      4\u001b[0m magnetogram_search \u001b[39m=\u001b[39m Fido\u001b[39m.\u001b[39msearch(a\u001b[39m.\u001b[39mTime(\u001b[39m'\u001b[39m\u001b[39m2014-01-01T00:00:00\u001b[39m\u001b[39m'\u001b[39m, \u001b[39m'\u001b[39m\u001b[39m2014-01-01T00:12:00\u001b[39m\u001b[39m'\u001b[39m), a\u001b[39m.\u001b[39mjsoc\u001b[39m.\u001b[39mSeries(\u001b[39m'\u001b[39m\u001b[39mhmi.m_720s\u001b[39m\u001b[39m'\u001b[39m), a\u001b[39m.\u001b[39mjsoc\u001b[39m.\u001b[39mNotify(\u001b[39m'\u001b[39m\u001b[39mbsl204@exeter.ac.uk\u001b[39m\u001b[39m'\u001b[39m))\n\u001b[1;32m      5\u001b[0m magnetogram_download \u001b[39m=\u001b[39m Fido\u001b[39m.\u001b[39mfetch(magnetogram_search, path\u001b[39m=\u001b[39m\u001b[39m'\u001b[39m\u001b[39m./\u001b[39m\u001b[39m{file}\u001b[39;00m\u001b[39m'\u001b[39m)\n",
      "File \u001b[0;32m~/Documents/PhD/Presentations/SolAsterTutorial/.venv/lib/python3.11/site-packages/sunpy/net/fido_factory.py:426\u001b[0m, in \u001b[0;36mUnifiedDownloaderFactory.fetch\u001b[0;34m(self, path, max_conn, progress, overwrite, downloader, *query_results, **kwargs)\u001b[0m\n\u001b[1;32m    423\u001b[0m     \u001b[39mraise\u001b[39;00m \u001b[39mValueError\u001b[39;00m(\u001b[39mf\u001b[39m\u001b[39m\"\u001b[39m\u001b[39mQuery result has an unrecognized type: \u001b[39m\u001b[39m{\u001b[39;00m\u001b[39mtype\u001b[39m(query_result)\u001b[39m}\u001b[39;00m\u001b[39m \u001b[39m\u001b[39m\"\u001b[39m\n\u001b[1;32m    424\u001b[0m                      \u001b[39m\"\u001b[39m\u001b[39mAllowed types are QueryResponseRow, QueryResponseTable or UnifiedResponse.\u001b[39m\u001b[39m\"\u001b[39m)\n\u001b[1;32m    425\u001b[0m \u001b[39mfor\u001b[39;00m block \u001b[39min\u001b[39;00m responses:\n\u001b[0;32m--> 426\u001b[0m     result \u001b[39m=\u001b[39m block\u001b[39m.\u001b[39;49mclient\u001b[39m.\u001b[39;49mfetch(block, path\u001b[39m=\u001b[39;49mpath,\n\u001b[1;32m    427\u001b[0m                                 downloader\u001b[39m=\u001b[39;49mdownloader,\n\u001b[1;32m    428\u001b[0m                                 wait\u001b[39m=\u001b[39;49m\u001b[39mFalse\u001b[39;49;00m, \u001b[39m*\u001b[39;49m\u001b[39m*\u001b[39;49mkwargs)\n\u001b[1;32m    429\u001b[0m     \u001b[39mif\u001b[39;00m result \u001b[39mnot\u001b[39;00m \u001b[39min\u001b[39;00m (\u001b[39mNotImplemented\u001b[39m, \u001b[39mNone\u001b[39;00m):\n\u001b[1;32m    430\u001b[0m         reslist\u001b[39m.\u001b[39mappend(result)\n",
      "File \u001b[0;32m~/Documents/PhD/Presentations/SolAsterTutorial/.venv/lib/python3.11/site-packages/sunpy/net/base_client.py:324\u001b[0m, in \u001b[0;36mconvert_row_to_table.<locals>.wrapper\u001b[0;34m(self, query_results, **kwargs)\u001b[0m\n\u001b[1;32m    322\u001b[0m \u001b[39mif\u001b[39;00m \u001b[39misinstance\u001b[39m(query_results, QueryResponseRow):\n\u001b[1;32m    323\u001b[0m     query_results \u001b[39m=\u001b[39m query_results\u001b[39m.\u001b[39mas_table()\n\u001b[0;32m--> 324\u001b[0m \u001b[39mreturn\u001b[39;00m func(\u001b[39mself\u001b[39;49m, query_results, \u001b[39m*\u001b[39;49m\u001b[39m*\u001b[39;49mkwargs)\n",
      "File \u001b[0;32m~/Documents/PhD/Presentations/SolAsterTutorial/.venv/lib/python3.11/site-packages/sunpy/net/jsoc/jsoc.py:425\u001b[0m, in \u001b[0;36mJSOCClient.fetch\u001b[0;34m(self, jsoc_response, path, progress, overwrite, downloader, wait, sleep, max_conn, **kwargs)\u001b[0m\n\u001b[1;32m    420\u001b[0m     warn_user(\u001b[39m\"\u001b[39m\u001b[39mDownloading of sliced JSOC results is not supported. \u001b[39m\u001b[39m\"\u001b[39m\n\u001b[1;32m    421\u001b[0m               \u001b[39m\"\u001b[39m\u001b[39mAll the files present in the original response will \u001b[39m\u001b[39m\"\u001b[39m\n\u001b[1;32m    422\u001b[0m               \u001b[39m\"\u001b[39m\u001b[39mbe downloaded when passed to fetch().\u001b[39m\u001b[39m\"\u001b[39m)\n\u001b[1;32m    424\u001b[0m \u001b[39m# Make staging request to JSOC\u001b[39;00m\n\u001b[0;32m--> 425\u001b[0m responses \u001b[39m=\u001b[39m \u001b[39mself\u001b[39;49m\u001b[39m.\u001b[39;49mrequest_data(jsoc_response)\n\u001b[1;32m    427\u001b[0m defaults \u001b[39m=\u001b[39m {\u001b[39m'\u001b[39m\u001b[39mmax_splits\u001b[39m\u001b[39m'\u001b[39m: \u001b[39m1\u001b[39m}\n\u001b[1;32m    428\u001b[0m defaults\u001b[39m.\u001b[39mupdate(kwargs)\n",
      "File \u001b[0;32m~/Documents/PhD/Presentations/SolAsterTutorial/.venv/lib/python3.11/site-packages/sunpy/net/jsoc/jsoc.py:340\u001b[0m, in \u001b[0;36mJSOCClient.request_data\u001b[0;34m(self, jsoc_response, method, **kwargs)\u001b[0m\n\u001b[1;32m    337\u001b[0m supported_methods \u001b[39m=\u001b[39m {\u001b[39m'\u001b[39m\u001b[39murl-tar\u001b[39m\u001b[39m'\u001b[39m, \u001b[39m'\u001b[39m\u001b[39murl\u001b[39m\u001b[39m'\u001b[39m, \u001b[39m'\u001b[39m\u001b[39murl-quick\u001b[39m\u001b[39m'\u001b[39m}\n\u001b[1;32m    338\u001b[0m \u001b[39mfor\u001b[39;00m block \u001b[39min\u001b[39;00m jsoc_response\u001b[39m.\u001b[39mquery_args:\n\u001b[0;32m--> 340\u001b[0m     ds \u001b[39m=\u001b[39m \u001b[39mself\u001b[39;49m\u001b[39m.\u001b[39;49m_make_recordset(\u001b[39m*\u001b[39;49m\u001b[39m*\u001b[39;49mblock)\n\u001b[1;32m    341\u001b[0m     cd \u001b[39m=\u001b[39m drms\u001b[39m.\u001b[39mClient(email\u001b[39m=\u001b[39mblock\u001b[39m.\u001b[39mget(\u001b[39m'\u001b[39m\u001b[39mnotify\u001b[39m\u001b[39m'\u001b[39m, \u001b[39m'\u001b[39m\u001b[39m'\u001b[39m))\n\u001b[1;32m    342\u001b[0m     protocol \u001b[39m=\u001b[39m block\u001b[39m.\u001b[39mget(\u001b[39m'\u001b[39m\u001b[39mprotocol\u001b[39m\u001b[39m'\u001b[39m, \u001b[39m'\u001b[39m\u001b[39mfits\u001b[39m\u001b[39m'\u001b[39m)\n",
      "File \u001b[0;32m~/Documents/PhD/Presentations/SolAsterTutorial/.venv/lib/python3.11/site-packages/sunpy/net/jsoc/jsoc.py:682\u001b[0m, in \u001b[0;36mJSOCClient._make_recordset\u001b[0;34m(self, series, start_time, end_time, wavelength, segment, primekey, keyword, **kwargs)\u001b[0m\n\u001b[1;32m    680\u001b[0m primekey_string \u001b[39m=\u001b[39m \u001b[39m'\u001b[39m\u001b[39m'\u001b[39m\n\u001b[1;32m    681\u001b[0m c \u001b[39m=\u001b[39m drms\u001b[39m.\u001b[39mClient()\n\u001b[0;32m--> 682\u001b[0m si \u001b[39m=\u001b[39m c\u001b[39m.\u001b[39;49minfo(series)\n\u001b[1;32m    683\u001b[0m primekeys_istime \u001b[39m=\u001b[39m si\u001b[39m.\u001b[39mkeywords\u001b[39m.\u001b[39mloc[si\u001b[39m.\u001b[39mprimekeys]\u001b[39m.\u001b[39mis_time\n\u001b[1;32m    684\u001b[0m \u001b[39mfor\u001b[39;00m pkey \u001b[39min\u001b[39;00m primekeys_istime\u001b[39m.\u001b[39mindex\u001b[39m.\u001b[39mvalues:\n\u001b[1;32m    685\u001b[0m     \u001b[39m# The loop is iterating over the list of prime-keys existing for the given series.\u001b[39;00m\n",
      "File \u001b[0;32m~/Documents/PhD/Presentations/SolAsterTutorial/.venv/lib/python3.11/site-packages/drms/client.py:943\u001b[0m, in \u001b[0;36mClient.info\u001b[0;34m(self, ds)\u001b[0m\n\u001b[1;32m    941\u001b[0m \u001b[39mif\u001b[39;00m name \u001b[39min\u001b[39;00m \u001b[39mself\u001b[39m\u001b[39m.\u001b[39m_info_cache:\n\u001b[1;32m    942\u001b[0m     \u001b[39mreturn\u001b[39;00m \u001b[39mself\u001b[39m\u001b[39m.\u001b[39m_info_cache[name]\n\u001b[0;32m--> 943\u001b[0m d \u001b[39m=\u001b[39m \u001b[39mself\u001b[39;49m\u001b[39m.\u001b[39;49m_json\u001b[39m.\u001b[39;49mseries_struct(name)\n\u001b[1;32m    944\u001b[0m status \u001b[39m=\u001b[39m d\u001b[39m.\u001b[39mget(\u001b[39m\"\u001b[39m\u001b[39mstatus\u001b[39m\u001b[39m\"\u001b[39m)\n\u001b[1;32m    945\u001b[0m \u001b[39mif\u001b[39;00m status \u001b[39m!=\u001b[39m \u001b[39m0\u001b[39m:\n",
      "File \u001b[0;32m~/Documents/PhD/Presentations/SolAsterTutorial/.venv/lib/python3.11/site-packages/drms/json.py:199\u001b[0m, in \u001b[0;36mHttpJsonClient.series_struct\u001b[0;34m(self, ds)\u001b[0m\n\u001b[1;32m    185\u001b[0m \u001b[39m\u001b[39m\u001b[39m\"\"\"\u001b[39;00m\n\u001b[1;32m    186\u001b[0m \u001b[39mGet information about the content of a data series.\u001b[39;00m\n\u001b[1;32m    187\u001b[0m \n\u001b[0;32m   (...)\u001b[0m\n\u001b[1;32m    196\u001b[0m \u001b[39m    Dictionary containing information about the data series.\u001b[39;00m\n\u001b[1;32m    197\u001b[0m \u001b[39m\"\"\"\u001b[39;00m\n\u001b[1;32m    198\u001b[0m query \u001b[39m=\u001b[39m \u001b[39mf\u001b[39m\u001b[39m'\u001b[39m\u001b[39m?\u001b[39m\u001b[39m{\u001b[39;00murlencode({\u001b[39m\"\u001b[39m\u001b[39mop\u001b[39m\u001b[39m\"\u001b[39m:\u001b[39m \u001b[39m\u001b[39m\"\u001b[39m\u001b[39mseries_struct\u001b[39m\u001b[39m\"\u001b[39m,\u001b[39m \u001b[39m\u001b[39m\"\u001b[39m\u001b[39mds\u001b[39m\u001b[39m\"\u001b[39m:\u001b[39m \u001b[39mds})\u001b[39m}\u001b[39;00m\u001b[39m'\u001b[39m\n\u001b[0;32m--> 199\u001b[0m req \u001b[39m=\u001b[39m \u001b[39mself\u001b[39;49m\u001b[39m.\u001b[39;49m_json_request(\u001b[39mself\u001b[39;49m\u001b[39m.\u001b[39;49m_server\u001b[39m.\u001b[39;49murl_jsoc_info \u001b[39m+\u001b[39;49m query)\n\u001b[1;32m    200\u001b[0m \u001b[39mreturn\u001b[39;00m req\u001b[39m.\u001b[39mdata\n",
      "File \u001b[0;32m~/Documents/PhD/Presentations/SolAsterTutorial/.venv/lib/python3.11/site-packages/drms/json.py:120\u001b[0m, in \u001b[0;36mHttpJsonClient._json_request\u001b[0;34m(self, url)\u001b[0m\n\u001b[1;32m    118\u001b[0m \u001b[39mif\u001b[39;00m \u001b[39mself\u001b[39m\u001b[39m.\u001b[39mdebug:\n\u001b[1;32m    119\u001b[0m     \u001b[39mprint\u001b[39m(url)\n\u001b[0;32m--> 120\u001b[0m \u001b[39mreturn\u001b[39;00m HttpJsonRequest(url, \u001b[39mself\u001b[39;49m\u001b[39m.\u001b[39;49m_server\u001b[39m.\u001b[39;49mencoding)\n",
      "File \u001b[0;32m~/Documents/PhD/Presentations/SolAsterTutorial/.venv/lib/python3.11/site-packages/drms/json.py:67\u001b[0m, in \u001b[0;36mHttpJsonRequest.__init__\u001b[0;34m(self, url, encoding)\u001b[0m\n\u001b[1;32m     65\u001b[0m \u001b[39mself\u001b[39m\u001b[39m.\u001b[39m_encoding \u001b[39m=\u001b[39m encoding\n\u001b[1;32m     66\u001b[0m \u001b[39mtry\u001b[39;00m:\n\u001b[0;32m---> 67\u001b[0m     \u001b[39mself\u001b[39m\u001b[39m.\u001b[39m_http \u001b[39m=\u001b[39m urlopen(url)\n\u001b[1;32m     68\u001b[0m \u001b[39mexcept\u001b[39;00m HTTPError \u001b[39mas\u001b[39;00m e:\n\u001b[1;32m     69\u001b[0m     e\u001b[39m.\u001b[39mmsg \u001b[39m=\u001b[39m \u001b[39mf\u001b[39m\u001b[39m\"\u001b[39m\u001b[39mFailed to open URL: \u001b[39m\u001b[39m{\u001b[39;00me\u001b[39m.\u001b[39murl\u001b[39m}\u001b[39;00m\u001b[39m with \u001b[39m\u001b[39m{\u001b[39;00me\u001b[39m.\u001b[39mcode\u001b[39m}\u001b[39;00m\u001b[39m - \u001b[39m\u001b[39m{\u001b[39;00me\u001b[39m.\u001b[39mmsg\u001b[39m}\u001b[39;00m\u001b[39m\"\u001b[39m\n",
      "File \u001b[0;32m/usr/local/Cellar/python@3.11/3.11.2_1/Frameworks/Python.framework/Versions/3.11/lib/python3.11/urllib/request.py:216\u001b[0m, in \u001b[0;36murlopen\u001b[0;34m(url, data, timeout, cafile, capath, cadefault, context)\u001b[0m\n\u001b[1;32m    214\u001b[0m \u001b[39melse\u001b[39;00m:\n\u001b[1;32m    215\u001b[0m     opener \u001b[39m=\u001b[39m _opener\n\u001b[0;32m--> 216\u001b[0m \u001b[39mreturn\u001b[39;00m opener\u001b[39m.\u001b[39;49mopen(url, data, timeout)\n",
      "File \u001b[0;32m/usr/local/Cellar/python@3.11/3.11.2_1/Frameworks/Python.framework/Versions/3.11/lib/python3.11/urllib/request.py:519\u001b[0m, in \u001b[0;36mOpenerDirector.open\u001b[0;34m(self, fullurl, data, timeout)\u001b[0m\n\u001b[1;32m    516\u001b[0m     req \u001b[39m=\u001b[39m meth(req)\n\u001b[1;32m    518\u001b[0m sys\u001b[39m.\u001b[39maudit(\u001b[39m'\u001b[39m\u001b[39murllib.Request\u001b[39m\u001b[39m'\u001b[39m, req\u001b[39m.\u001b[39mfull_url, req\u001b[39m.\u001b[39mdata, req\u001b[39m.\u001b[39mheaders, req\u001b[39m.\u001b[39mget_method())\n\u001b[0;32m--> 519\u001b[0m response \u001b[39m=\u001b[39m \u001b[39mself\u001b[39;49m\u001b[39m.\u001b[39;49m_open(req, data)\n\u001b[1;32m    521\u001b[0m \u001b[39m# post-process response\u001b[39;00m\n\u001b[1;32m    522\u001b[0m meth_name \u001b[39m=\u001b[39m protocol\u001b[39m+\u001b[39m\u001b[39m\"\u001b[39m\u001b[39m_response\u001b[39m\u001b[39m\"\u001b[39m\n",
      "File \u001b[0;32m/usr/local/Cellar/python@3.11/3.11.2_1/Frameworks/Python.framework/Versions/3.11/lib/python3.11/urllib/request.py:536\u001b[0m, in \u001b[0;36mOpenerDirector._open\u001b[0;34m(self, req, data)\u001b[0m\n\u001b[1;32m    533\u001b[0m     \u001b[39mreturn\u001b[39;00m result\n\u001b[1;32m    535\u001b[0m protocol \u001b[39m=\u001b[39m req\u001b[39m.\u001b[39mtype\n\u001b[0;32m--> 536\u001b[0m result \u001b[39m=\u001b[39m \u001b[39mself\u001b[39;49m\u001b[39m.\u001b[39;49m_call_chain(\u001b[39mself\u001b[39;49m\u001b[39m.\u001b[39;49mhandle_open, protocol, protocol \u001b[39m+\u001b[39;49m\n\u001b[1;32m    537\u001b[0m                           \u001b[39m'\u001b[39;49m\u001b[39m_open\u001b[39;49m\u001b[39m'\u001b[39;49m, req)\n\u001b[1;32m    538\u001b[0m \u001b[39mif\u001b[39;00m result:\n\u001b[1;32m    539\u001b[0m     \u001b[39mreturn\u001b[39;00m result\n",
      "File \u001b[0;32m/usr/local/Cellar/python@3.11/3.11.2_1/Frameworks/Python.framework/Versions/3.11/lib/python3.11/urllib/request.py:496\u001b[0m, in \u001b[0;36mOpenerDirector._call_chain\u001b[0;34m(self, chain, kind, meth_name, *args)\u001b[0m\n\u001b[1;32m    494\u001b[0m \u001b[39mfor\u001b[39;00m handler \u001b[39min\u001b[39;00m handlers:\n\u001b[1;32m    495\u001b[0m     func \u001b[39m=\u001b[39m \u001b[39mgetattr\u001b[39m(handler, meth_name)\n\u001b[0;32m--> 496\u001b[0m     result \u001b[39m=\u001b[39m func(\u001b[39m*\u001b[39;49margs)\n\u001b[1;32m    497\u001b[0m     \u001b[39mif\u001b[39;00m result \u001b[39mis\u001b[39;00m \u001b[39mnot\u001b[39;00m \u001b[39mNone\u001b[39;00m:\n\u001b[1;32m    498\u001b[0m         \u001b[39mreturn\u001b[39;00m result\n",
      "File \u001b[0;32m/usr/local/Cellar/python@3.11/3.11.2_1/Frameworks/Python.framework/Versions/3.11/lib/python3.11/urllib/request.py:1377\u001b[0m, in \u001b[0;36mHTTPHandler.http_open\u001b[0;34m(self, req)\u001b[0m\n\u001b[1;32m   1376\u001b[0m \u001b[39mdef\u001b[39;00m \u001b[39mhttp_open\u001b[39m(\u001b[39mself\u001b[39m, req):\n\u001b[0;32m-> 1377\u001b[0m     \u001b[39mreturn\u001b[39;00m \u001b[39mself\u001b[39;49m\u001b[39m.\u001b[39;49mdo_open(http\u001b[39m.\u001b[39;49mclient\u001b[39m.\u001b[39;49mHTTPConnection, req)\n",
      "File \u001b[0;32m/usr/local/Cellar/python@3.11/3.11.2_1/Frameworks/Python.framework/Versions/3.11/lib/python3.11/urllib/request.py:1352\u001b[0m, in \u001b[0;36mAbstractHTTPHandler.do_open\u001b[0;34m(self, http_class, req, **http_conn_args)\u001b[0m\n\u001b[1;32m   1350\u001b[0m     \u001b[39mexcept\u001b[39;00m \u001b[39mOSError\u001b[39;00m \u001b[39mas\u001b[39;00m err: \u001b[39m# timeout error\u001b[39;00m\n\u001b[1;32m   1351\u001b[0m         \u001b[39mraise\u001b[39;00m URLError(err)\n\u001b[0;32m-> 1352\u001b[0m     r \u001b[39m=\u001b[39m h\u001b[39m.\u001b[39;49mgetresponse()\n\u001b[1;32m   1353\u001b[0m \u001b[39mexcept\u001b[39;00m:\n\u001b[1;32m   1354\u001b[0m     h\u001b[39m.\u001b[39mclose()\n",
      "File \u001b[0;32m/usr/local/Cellar/python@3.11/3.11.2_1/Frameworks/Python.framework/Versions/3.11/lib/python3.11/http/client.py:1374\u001b[0m, in \u001b[0;36mHTTPConnection.getresponse\u001b[0;34m(self)\u001b[0m\n\u001b[1;32m   1372\u001b[0m \u001b[39mtry\u001b[39;00m:\n\u001b[1;32m   1373\u001b[0m     \u001b[39mtry\u001b[39;00m:\n\u001b[0;32m-> 1374\u001b[0m         response\u001b[39m.\u001b[39;49mbegin()\n\u001b[1;32m   1375\u001b[0m     \u001b[39mexcept\u001b[39;00m \u001b[39mConnectionError\u001b[39;00m:\n\u001b[1;32m   1376\u001b[0m         \u001b[39mself\u001b[39m\u001b[39m.\u001b[39mclose()\n",
      "File \u001b[0;32m/usr/local/Cellar/python@3.11/3.11.2_1/Frameworks/Python.framework/Versions/3.11/lib/python3.11/http/client.py:318\u001b[0m, in \u001b[0;36mHTTPResponse.begin\u001b[0;34m(self)\u001b[0m\n\u001b[1;32m    316\u001b[0m \u001b[39m# read until we get a non-100 response\u001b[39;00m\n\u001b[1;32m    317\u001b[0m \u001b[39mwhile\u001b[39;00m \u001b[39mTrue\u001b[39;00m:\n\u001b[0;32m--> 318\u001b[0m     version, status, reason \u001b[39m=\u001b[39m \u001b[39mself\u001b[39;49m\u001b[39m.\u001b[39;49m_read_status()\n\u001b[1;32m    319\u001b[0m     \u001b[39mif\u001b[39;00m status \u001b[39m!=\u001b[39m CONTINUE:\n\u001b[1;32m    320\u001b[0m         \u001b[39mbreak\u001b[39;00m\n",
      "File \u001b[0;32m/usr/local/Cellar/python@3.11/3.11.2_1/Frameworks/Python.framework/Versions/3.11/lib/python3.11/http/client.py:279\u001b[0m, in \u001b[0;36mHTTPResponse._read_status\u001b[0;34m(self)\u001b[0m\n\u001b[1;32m    278\u001b[0m \u001b[39mdef\u001b[39;00m \u001b[39m_read_status\u001b[39m(\u001b[39mself\u001b[39m):\n\u001b[0;32m--> 279\u001b[0m     line \u001b[39m=\u001b[39m \u001b[39mstr\u001b[39m(\u001b[39mself\u001b[39m\u001b[39m.\u001b[39mfp\u001b[39m.\u001b[39mreadline(_MAXLINE \u001b[39m+\u001b[39m \u001b[39m1\u001b[39m), \u001b[39m\"\u001b[39m\u001b[39miso-8859-1\u001b[39m\u001b[39m\"\u001b[39m)\n\u001b[1;32m    280\u001b[0m     \u001b[39mif\u001b[39;00m \u001b[39mlen\u001b[39m(line) \u001b[39m>\u001b[39m _MAXLINE:\n\u001b[1;32m    281\u001b[0m         \u001b[39mraise\u001b[39;00m LineTooLong(\u001b[39m\"\u001b[39m\u001b[39mstatus line\u001b[39m\u001b[39m\"\u001b[39m)\n",
      "File \u001b[0;32m/usr/local/Cellar/python@3.11/3.11.2_1/Frameworks/Python.framework/Versions/3.11/lib/python3.11/socket.py:706\u001b[0m, in \u001b[0;36mSocketIO.readinto\u001b[0;34m(self, b)\u001b[0m\n\u001b[1;32m    704\u001b[0m \u001b[39mwhile\u001b[39;00m \u001b[39mTrue\u001b[39;00m:\n\u001b[1;32m    705\u001b[0m     \u001b[39mtry\u001b[39;00m:\n\u001b[0;32m--> 706\u001b[0m         \u001b[39mreturn\u001b[39;00m \u001b[39mself\u001b[39;49m\u001b[39m.\u001b[39;49m_sock\u001b[39m.\u001b[39;49mrecv_into(b)\n\u001b[1;32m    707\u001b[0m     \u001b[39mexcept\u001b[39;00m timeout:\n\u001b[1;32m    708\u001b[0m         \u001b[39mself\u001b[39m\u001b[39m.\u001b[39m_timeout_occurred \u001b[39m=\u001b[39m \u001b[39mTrue\u001b[39;00m\n",
      "\u001b[0;31mKeyboardInterrupt\u001b[0m: "
     ]
    }
   ],
   "source": [
    "continuum_search = Fido.search(a.Time('2014-01-01T00:00:00', '2014-01-01T00:12:00'), a.jsoc.Series('hmi.Ic_720s'), a.jsoc.Notify('bsl204@exeter.ac.uk'))\n",
    "continuum_download = Fido.fetch(continuum_search, path='./downloaded_images/{file}')\n",
    "\n",
    "magnetogram_search = Fido.search(a.Time('2014-01-01T00:00:00', '2014-01-01T00:12:00'), a.jsoc.Series('hmi.m_720s'), a.jsoc.Notify('bsl204@exeter.ac.uk'))\n",
    "magnetogram_download = Fido.fetch(magnetogram_search, path='path='./downloaded_images/{file}')\n",
    "\n",
    "dopplergram_search = Fido.search(a.Time('2014-01-01T00:00:00', '2014-01-01T00:12:00'), a.jsoc.Series('hmi.V_720s'), a.jsoc.Notify('bsl204@exeter.ac.uk'))\n",
    "dopplergram_download = Fido.fetch(dopplergram_search, path='./{file}')"
   ]
  },
  {
   "cell_type": "code",
   "execution_count": 15,
   "metadata": {},
   "outputs": [
    {
     "name": "stdout",
     "output_type": "stream",
     "text": [
      "['hmi.v_720s.20140101_000000_TAI.1.Dopplergram.fits', 'hmi.v_720s.20140101_001200_TAI.1.Dopplergram.fits']\n"
     ]
    }
   ],
   "source": [
    "print(dopplergram_download)"
   ]
  },
  {
   "cell_type": "code",
   "execution_count": 16,
   "metadata": {},
   "outputs": [
    {
     "data": {
      "text/html": [
       "Results from 1 Provider:</br></br>2 Results from the JSOCClient:</br><div><i>JSOCResponse length=2</i>\n",
       "<table id=\"table4993521616\" class=\"table-striped table-bordered table-condensed\">\n",
       "<thead><tr><th>T_REC</th><th>TELESCOP</th><th>INSTRUME</th><th>WAVELNTH</th><th>CAR_ROT</th></tr></thead>\n",
       "<thead><tr><th>str23</th><th>str7</th><th>str9</th><th>float64</th><th>int64</th></tr></thead>\n",
       "<tr><td>2014.01.01_00:00:00_TAI</td><td>SDO/HMI</td><td>HMI_SIDE1</td><td>6173.0</td><td>2145</td></tr>\n",
       "<tr><td>2014.01.01_00:12:00_TAI</td><td>SDO/HMI</td><td>HMI_SIDE1</td><td>6173.0</td><td>2145</td></tr>\n",
       "</table></div></br>"
      ],
      "text/plain": [
       "<sunpy.net.fido_factory.UnifiedResponse object at 0x128d86d50>\n",
       "Results from 1 Provider:\n",
       "\n",
       "2 Results from the JSOCClient:\n",
       "Source: http://jsoc.stanford.edu\n",
       "\n",
       "         T_REC          TELESCOP  INSTRUME WAVELNTH CAR_ROT\n",
       "----------------------- -------- --------- -------- -------\n",
       "2014.01.01_00:00:00_TAI  SDO/HMI HMI_SIDE1   6173.0    2145\n",
       "2014.01.01_00:12:00_TAI  SDO/HMI HMI_SIDE1   6173.0    2145\n"
      ]
     },
     "execution_count": 16,
     "metadata": {},
     "output_type": "execute_result"
    }
   ],
   "source": [
    "continuum_search"
   ]
  },
  {
   "cell_type": "code",
   "execution_count": null,
   "metadata": {},
   "outputs": [],
   "source": []
  }
 ],
 "metadata": {
  "kernelspec": {
   "display_name": "Python 3 (ipykernel)",
   "language": "python",
   "name": "python3"
  },
  "language_info": {
   "codemirror_mode": {
    "name": "ipython",
    "version": 3
   },
   "file_extension": ".py",
   "mimetype": "text/x-python",
   "name": "python",
   "nbconvert_exporter": "python",
   "pygments_lexer": "ipython3",
   "version": "3.8.8"
  },
  "vscode": {
   "interpreter": {
    "hash": "5ff616b1659fc3860cc024fa76dfe1a60f886fc6e629cbf7b5197c3744c118f3"
   }
  }
 },
 "nbformat": 4,
 "nbformat_minor": 2
}
