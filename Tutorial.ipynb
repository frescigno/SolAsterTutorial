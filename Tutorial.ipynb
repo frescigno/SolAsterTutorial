{
 "cells": [
  {
   "cell_type": "code",
   "execution_count": null,
   "metadata": {},
   "outputs": [],
   "source": []
  }
 ],
 "metadata": {
  "kernelspec": {
   "display_name": "Main",
   "language": "python",
   "name": "python3"
  },
  "language_info": {
   "name": "python",
   "version": "3.7.12 | packaged by conda-forge | (default, Oct 26 2021, 05:59:23) \n[Clang 11.1.0 ]"
  },
  "orig_nbformat": 4,
  "vscode": {
   "interpreter": {
    "hash": "5ff616b1659fc3860cc024fa76dfe1a60f886fc6e629cbf7b5197c3744c118f3"
   }
  }
 },
 "nbformat": 4,
 "nbformat_minor": 2
}
